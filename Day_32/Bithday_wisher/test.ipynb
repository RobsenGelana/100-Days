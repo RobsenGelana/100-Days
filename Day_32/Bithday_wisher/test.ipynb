{
 "cells": [
  {
   "cell_type": "code",
   "execution_count": 69,
   "metadata": {},
   "outputs": [],
   "source": [
    "import pandas as pd \n",
    "import random\n",
    "import datetime as dt \n",
    "import smtplib \n",
    "\n",
    "\n",
    "data = pd.read_csv('./bd.csv')\n",
    "df = data.to_dict(orient='records')\n",
    "now = dt.datetime.now()\n",
    "\n",
    "\n",
    "print(df)\n",
    "\n",
    "\n",
    "\n"
   ]
  },
  {
   "cell_type": "code",
   "execution_count": null,
   "metadata": {},
   "outputs": [],
   "source": []
  },
  {
   "cell_type": "code",
   "execution_count": null,
   "metadata": {},
   "outputs": [],
   "source": []
  }
 ],
 "metadata": {
  "kernelspec": {
   "display_name": "Python 3.9.12 ('base')",
   "language": "python",
   "name": "python3"
  },
  "language_info": {
   "codemirror_mode": {
    "name": "ipython",
    "version": 3
   },
   "file_extension": ".py",
   "mimetype": "text/x-python",
   "name": "python",
   "nbconvert_exporter": "python",
   "pygments_lexer": "ipython3",
   "version": "3.9.12"
  },
  "orig_nbformat": 4,
  "vscode": {
   "interpreter": {
    "hash": "f61a833cdcb0fa31fa71d5082030abf249b5034f7c0fda49766f54fd169e808f"
   }
  }
 },
 "nbformat": 4,
 "nbformat_minor": 2
}
